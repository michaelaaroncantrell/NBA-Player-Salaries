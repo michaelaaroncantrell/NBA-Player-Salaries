{
 "cells": [
  {
   "cell_type": "code",
   "execution_count": 1,
   "metadata": {
    "collapsed": true
   },
   "outputs": [],
   "source": [
    "import requests\n",
    "from bs4 import BeautifulSoup\n",
    "import re\n",
    "import pandas as pd\n",
    "import pickle"
   ]
  },
  {
   "cell_type": "code",
   "execution_count": 2,
   "metadata": {
    "collapsed": true
   },
   "outputs": [],
   "source": [
    "def players(year):\n",
    "    '''Use BeautifulSoup to scrape and return the names of all NBA basketball players who played \n",
    "    in the season year according to basketball-reference.com'''\n",
    "    \n",
    "    url=\"http://www.basketball-reference.com/play-index/psl_finder.cgi?request=1&match=single&type=\\\n",
    "    totals&per_minute_base=36&per_poss_base=100&lg_id=NBA&is_playoffs=N&year_min={0}&year_max=\\\n",
    "    {1}&franch_id=&season_start=1&season_end=-1&age_min=0&age_max=99&shoot_hand=&height_min=\\\n",
    "    0&height_max=99&birth_country_is=Y&birth_country=&birth_state=&college_id=&draft_year=\\\n",
    "    &is_active=&debut_yr_aba_start=&debut_yr_aba_end=&debut_yr_nba_start=&debut_yr_nba_end=\\\n",
    "    &is_hof=&is_as=&as_comp=gt&as_val=&award=&pos_is_g=Y&pos_is_gf=Y&pos_is_f=Y&pos_is_fg=\\\n",
    "    Y&pos_is_fc=Y&pos_is_c=Y&pos_is_cf=Y&qual=&c1stat=&c1comp=&c1val=&c2stat=&c2comp=&c2val=\\\n",
    "    &c3stat=&c3comp=&c3val=&c4stat=&c4comp=&c4val=&c5stat=&c5comp=&c6mult=1.0&c6stat=&order_by=\\\n",
    "    ws&order_by_asc=&offset=000\".format(year,year)\n",
    "\n",
    "    names=[]\n",
    "    while True:\n",
    "        response=requests.get(url)\n",
    "        page=response.text\n",
    "        page = re.sub('<!--', '', page)\n",
    "        page = re.sub('-->', '', page)\n",
    "        \n",
    "        soup=BeautifulSoup(page, 'lxml') \n",
    "        \n",
    "        if soup.find(id=\"all_stats\")==None:\n",
    "            break\n",
    "        \n",
    "        for row in soup.find(class_=\"over_header\").parent.parent.find_all('tr'):\n",
    "            if row.find(class_='left active')!=None:\n",
    "                for entry in row.find(class_='left active'):\n",
    "                    names.append(entry['href'])\n",
    "\n",
    "        url=url[:len(url)-3]+str(int(url[len(url)-3:])+100)\n",
    "    return names"
   ]
  },
  {
   "cell_type": "markdown",
   "metadata": {},
   "source": [
    "I'm interested in players who played in both 2016 and 2017, so that I can use their 2016 performance to predict their 2017 salary."
   ]
  },
  {
   "cell_type": "code",
   "execution_count": 3,
   "metadata": {
    "collapsed": true
   },
   "outputs": [],
   "source": [
    "links=list(set(players('2016')) & set(players('2017')))"
   ]
  },
  {
   "cell_type": "code",
   "execution_count": 4,
   "metadata": {
    "collapsed": true
   },
   "outputs": [],
   "source": [
    "df=[]\n",
    "\n",
    "# for each player (equiv., link) go to the player's page and scrape features about that player. Put in to df.\n",
    "for link in links:\n",
    "    url=\"http://www.basketball-reference.com/{0}\".format(link)\n",
    "    response=requests.get(url)\n",
    "    page=response.text\n",
    "    page = re.sub('<!--', '', page)\n",
    "    page = re.sub('-->', '', page)\n",
    "    \n",
    "    soup=BeautifulSoup(page, 'lxml')\n",
    "    \n",
    "    for elt in soup(text=re.compile('Contract Table')):\n",
    "        for row in elt.parent.parent.find_all('td')[1]:\n",
    "            salary=row.get_text().replace('$','').replace(',','')\n",
    "\n",
    "    for elt in soup(text=re.compile('Experience')):\n",
    "        experience=(elt.parent.parent).get_text().split()[1]\n",
    "\n",
    "    for elt in soup(text=re.compile('Shoots')):\n",
    "        shoots=elt.parent.parent.get_text().split()[-1]\n",
    "\n",
    "    name=soup.find('h1').get_text()\n",
    "    \n",
    "    height=soup.find(itemprop=\"height\").get_text()\n",
    "    height=list(map(int,height.split(\"-\")))\n",
    "    height=str(height[1]+12*height[0])\n",
    "    \n",
    "    weight=soup.find(itemprop=\"weight\").get_text()\n",
    "    weight=weight.replace(\"lb\",\"\")\n",
    "    \n",
    "    per_game=[row.get_text().strip() for row in soup.find_all(id=\"per_game.2016\")[0].find_all('td')]\n",
    "    \n",
    "    data=[name, salary, experience, height, weight, shoots]+per_game\n",
    "    \n",
    "    df.append(data)"
   ]
  },
  {
   "cell_type": "code",
   "execution_count": 5,
   "metadata": {
    "collapsed": false
   },
   "outputs": [
    {
     "name": "stdout",
     "output_type": "stream",
     "text": [
      "                 0         1  2   3    4      5   6    7    8   9   ...   \\\n",
      "0  D'Angelo Russell   5332800  1  77  195   Left  19  LAL  NBA  PG  ...    \n",
      "1     DeMar DeRozan  26540100  7  79  221  Right  26  TOR  NBA  SG  ...    \n",
      "2  Brandon Jennings   5000000  7  73  170   Left  26  TOT  NBA  PG  ...    \n",
      "3        Jeff Green  15000000  8  81  235  Right  29  TOT  NBA  SF  ...    \n",
      "4   Justin Anderson   1514160  1  78  228   Left  22  DAL  NBA  SF  ...    \n",
      "\n",
      "     25   26   27   28   29   30   31   32   33    34  \n",
      "0  .737  0.6  2.8  3.4  3.3  1.2  0.2  2.5  1.8  13.2  \n",
      "1  .850  0.8  3.7  4.5  4.0  1.0  0.3  2.2  2.1  23.5  \n",
      "2  .731  0.3  1.7  2.0  3.5  0.6  0.1  1.2  1.2   6.9  \n",
      "3  .745  0.9  3.2  4.2  1.7  0.7  0.5  1.2  2.1  11.7  \n",
      "4  .800  0.3  2.1  2.4  0.5  0.3  0.5  0.4  0.8   3.8  \n",
      "\n",
      "[5 rows x 35 columns]\n"
     ]
    }
   ],
   "source": [
    "df_new=pd.DataFrame(df)\n",
    "print(df_new.head())"
   ]
  },
  {
   "cell_type": "code",
   "execution_count": 6,
   "metadata": {
    "collapsed": true
   },
   "outputs": [],
   "source": [
    "with open('2016_2017.pkl', 'wb') as picklefile:\n",
    "    pickle.dump(df_new, picklefile)"
   ]
  }
 ],
 "metadata": {
  "anaconda-cloud": {},
  "kernelspec": {
   "display_name": "Python [conda root]",
   "language": "python",
   "name": "conda-root-py"
  },
  "language_info": {
   "codemirror_mode": {
    "name": "ipython",
    "version": 3
   },
   "file_extension": ".py",
   "mimetype": "text/x-python",
   "name": "python",
   "nbconvert_exporter": "python",
   "pygments_lexer": "ipython3",
   "version": "3.5.2"
  }
 },
 "nbformat": 4,
 "nbformat_minor": 1
}
